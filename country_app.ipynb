{
 "cells": [
  {
   "cell_type": "code",
   "execution_count": 1,
   "metadata": {},
   "outputs": [],
   "source": [
    "import pandas as pd\n",
    "import matplotlib.pyplot as plt\n",
    "import numpy as np\n",
    "from PIL import Image"
   ]
  },
  {
   "cell_type": "code",
   "execution_count": 2,
   "metadata": {},
   "outputs": [],
   "source": [
    "df_time_series_confirmed = pd.read_csv(\"csse_covid_19_data/csse_covid_19_time_series/time_series_19-covid-Confirmed.csv\")\n"
   ]
  },
  {
   "cell_type": "code",
   "execution_count": 49,
   "metadata": {},
   "outputs": [],
   "source": [
    "def dataVizApp():\n",
    "    country = input(\"Which country would you like? \").capitalize()\n",
    "    df_time_series_confirmed_search = df_time_series_confirmed.loc[df_time_series_confirmed['Country/Region'] == country]\n",
    "    df_transposed = df_time_series_confirmed_search.T\n",
    "    df_transposed.reset_index(inplace = True) \n",
    "    \n",
    "#     Grab the name of the columns for each new country \n",
    "    columns = []\n",
    "    for col in df_transposed.columns: \n",
    "        columns.append(col)\n",
    "\n",
    "#     Grab the value of what will tell whether its region or not\n",
    "    provinceCheck = df_transposed[columns[1]].iloc[0]\n",
    "\n",
    "    if type(provinceCheck) == str:\n",
    "        df_transposed.columns = df_transposed.iloc[0]\n",
    "        df_transposed = df_transposed.rename(columns={'Province/State': 'Date'})\n",
    "    else: \n",
    "        df_transposed.columns = df_transposed.iloc[1]\n",
    "        df_transposed = df_transposed.rename(columns={'Country/Region': 'Date'})\n",
    "\n",
    "    df_transposed = df_transposed.drop([0,1,2,3])\n",
    "    \n",
    "#     Testing to see things are working - they are as of 7:14 3.24\n",
    "#     final = df_transposed.head()\n",
    "#     return final\n",
    "\n",
    "#     Now testing to see if I can make it work with a map\n",
    "\n",
    "    columns_mapping = []\n",
    "    for col in df_transposed.columns: \n",
    "        columns_mapping.append(col) \n",
    "        \n",
    "#     Create a line plot for the country or the region\n",
    "    labels = [columns_mapping[1]]  # can also change the [1] to [1:4] to grab multiple in the case of china\n",
    "    fig = df_transposed.plot(x = columns_mapping[0], \n",
    "                   y= labels, \n",
    "                   title = f'Line Plot of COVID-19 Confirmed Cases in {labels}')\n",
    "    plt.legend(labels)\n",
    "    plt.ylabel('Number of Cases')\n",
    "    fig.get_figure().savefig(f'{country}.png')    \n",
    "\n",
    "    img = Image.open(f'{country}.PNG')      \n",
    "    img.show()\n",
    "    return"
   ]
  },
  {
   "cell_type": "code",
   "execution_count": 50,
   "metadata": {},
   "outputs": [
    {
     "name": "stdout",
     "output_type": "stream",
     "text": [
      "Which country would you like? japan\n"
     ]
    },
    {
     "data": {
      "image/png": "[encoded data removed]",
      "text/plain": [
       "<Figure size 432x288 with 1 Axes>"
      ]
     },
     "metadata": {
      "needs_background": "light"
     },
     "output_type": "display_data"
    }
   ],
   "source": [
    "dataVizApp()"
   ]
  },
  {
   "cell_type": "code",
   "execution_count": 29,
   "metadata": {},
   "outputs": [
    {
     "name": "stdout",
     "output_type": "stream",
     "text": [
      "Which country would you like? China\n"
     ]
    }
   ],
   "source": [
    "    country = input(\"Which country would you like? \")\n",
    "    df_time_series_confirmed_search = df_time_series_confirmed.loc[df_time_series_confirmed['Country/Region'] == country]\n",
    "    df_transposed = df_time_series_confirmed_search.T\n",
    "    df_transposed.reset_index(inplace = True) "
   ]
  },
  {
   "cell_type": "code",
   "execution_count": 30,
   "metadata": {},
   "outputs": [
    {
     "data": {
      "text/html": [
       "<div>\n",
       "<style scoped>\n",
       "    .dataframe tbody tr th:only-of-type {\n",
       "        vertical-align: middle;\n",
       "    }\n",
       "\n",
       "    .dataframe tbody tr th {\n",
       "        vertical-align: top;\n",
       "    }\n",
       "\n",
       "    .dataframe thead th {\n",
       "        text-align: right;\n",
       "    }\n",
       "</style>\n",
       "<table border=\"1\" class=\"dataframe\">\n",
       "  <thead>\n",
       "    <tr style=\"text-align: right;\">\n",
       "      <th></th>\n",
       "      <th>index</th>\n",
       "      <th>156</th>\n",
       "      <th>160</th>\n",
       "      <th>161</th>\n",
       "      <th>162</th>\n",
       "      <th>163</th>\n",
       "      <th>164</th>\n",
       "      <th>165</th>\n",
       "      <th>166</th>\n",
       "      <th>168</th>\n",
       "      <th>...</th>\n",
       "      <th>184</th>\n",
       "      <th>185</th>\n",
       "      <th>186</th>\n",
       "      <th>187</th>\n",
       "      <th>189</th>\n",
       "      <th>190</th>\n",
       "      <th>191</th>\n",
       "      <th>195</th>\n",
       "      <th>196</th>\n",
       "      <th>204</th>\n",
       "    </tr>\n",
       "  </thead>\n",
       "  <tbody>\n",
       "    <tr>\n",
       "      <th>0</th>\n",
       "      <td>Province/State</td>\n",
       "      <td>Hubei</td>\n",
       "      <td>Guangdong</td>\n",
       "      <td>Henan</td>\n",
       "      <td>Zhejiang</td>\n",
       "      <td>Hunan</td>\n",
       "      <td>Anhui</td>\n",
       "      <td>Jiangxi</td>\n",
       "      <td>Shandong</td>\n",
       "      <td>Jiangsu</td>\n",
       "      <td>...</td>\n",
       "      <td>Gansu</td>\n",
       "      <td>Hong Kong</td>\n",
       "      <td>Liaoning</td>\n",
       "      <td>Jilin</td>\n",
       "      <td>Xinjiang</td>\n",
       "      <td>Inner Mongolia</td>\n",
       "      <td>Ningxia</td>\n",
       "      <td>Qinghai</td>\n",
       "      <td>Macau</td>\n",
       "      <td>Tibet</td>\n",
       "    </tr>\n",
       "    <tr>\n",
       "      <th>1</th>\n",
       "      <td>Country/Region</td>\n",
       "      <td>China</td>\n",
       "      <td>China</td>\n",
       "      <td>China</td>\n",
       "      <td>China</td>\n",
       "      <td>China</td>\n",
       "      <td>China</td>\n",
       "      <td>China</td>\n",
       "      <td>China</td>\n",
       "      <td>China</td>\n",
       "      <td>...</td>\n",
       "      <td>China</td>\n",
       "      <td>China</td>\n",
       "      <td>China</td>\n",
       "      <td>China</td>\n",
       "      <td>China</td>\n",
       "      <td>China</td>\n",
       "      <td>China</td>\n",
       "      <td>China</td>\n",
       "      <td>China</td>\n",
       "      <td>China</td>\n",
       "    </tr>\n",
       "    <tr>\n",
       "      <th>2</th>\n",
       "      <td>Lat</td>\n",
       "      <td>30.9756</td>\n",
       "      <td>23.3417</td>\n",
       "      <td>33.882</td>\n",
       "      <td>29.1832</td>\n",
       "      <td>27.6104</td>\n",
       "      <td>31.8257</td>\n",
       "      <td>27.614</td>\n",
       "      <td>36.3427</td>\n",
       "      <td>32.9711</td>\n",
       "      <td>...</td>\n",
       "      <td>37.8099</td>\n",
       "      <td>22.3</td>\n",
       "      <td>41.2956</td>\n",
       "      <td>43.6661</td>\n",
       "      <td>41.1129</td>\n",
       "      <td>44.0935</td>\n",
       "      <td>37.2692</td>\n",
       "      <td>35.7452</td>\n",
       "      <td>22.1667</td>\n",
       "      <td>31.6927</td>\n",
       "    </tr>\n",
       "    <tr>\n",
       "      <th>3</th>\n",
       "      <td>Long</td>\n",
       "      <td>112.271</td>\n",
       "      <td>113.424</td>\n",
       "      <td>113.614</td>\n",
       "      <td>120.093</td>\n",
       "      <td>111.709</td>\n",
       "      <td>117.226</td>\n",
       "      <td>115.722</td>\n",
       "      <td>118.15</td>\n",
       "      <td>119.455</td>\n",
       "      <td>...</td>\n",
       "      <td>101.058</td>\n",
       "      <td>114.2</td>\n",
       "      <td>122.609</td>\n",
       "      <td>126.192</td>\n",
       "      <td>85.2401</td>\n",
       "      <td>113.945</td>\n",
       "      <td>106.165</td>\n",
       "      <td>95.9956</td>\n",
       "      <td>113.55</td>\n",
       "      <td>88.0924</td>\n",
       "    </tr>\n",
       "    <tr>\n",
       "      <th>4</th>\n",
       "      <td>1/22/20</td>\n",
       "      <td>444</td>\n",
       "      <td>26</td>\n",
       "      <td>5</td>\n",
       "      <td>10</td>\n",
       "      <td>4</td>\n",
       "      <td>1</td>\n",
       "      <td>2</td>\n",
       "      <td>2</td>\n",
       "      <td>1</td>\n",
       "      <td>...</td>\n",
       "      <td>0</td>\n",
       "      <td>0</td>\n",
       "      <td>2</td>\n",
       "      <td>0</td>\n",
       "      <td>0</td>\n",
       "      <td>0</td>\n",
       "      <td>1</td>\n",
       "      <td>0</td>\n",
       "      <td>1</td>\n",
       "      <td>0</td>\n",
       "    </tr>\n",
       "  </tbody>\n",
       "</table>\n",
       "<p>5 rows × 34 columns</p>\n",
       "</div>"
      ],
      "text/plain": [
       "            index      156        160      161       162      163      164  \\\n",
       "0  Province/State    Hubei  Guangdong    Henan  Zhejiang    Hunan    Anhui   \n",
       "1  Country/Region    China      China    China     China    China    China   \n",
       "2             Lat  30.9756    23.3417   33.882   29.1832  27.6104  31.8257   \n",
       "3            Long  112.271    113.424  113.614   120.093  111.709  117.226   \n",
       "4         1/22/20      444         26        5        10        4        1   \n",
       "\n",
       "       165       166      168  ...      184        185       186      187  \\\n",
       "0  Jiangxi  Shandong  Jiangsu  ...    Gansu  Hong Kong  Liaoning    Jilin   \n",
       "1    China     China    China  ...    China      China     China    China   \n",
       "2   27.614   36.3427  32.9711  ...  37.8099       22.3   41.2956  43.6661   \n",
       "3  115.722    118.15  119.455  ...  101.058      114.2   122.609  126.192   \n",
       "4        2         2        1  ...        0          0         2        0   \n",
       "\n",
       "        189             190      191      195      196      204  \n",
       "0  Xinjiang  Inner Mongolia  Ningxia  Qinghai    Macau    Tibet  \n",
       "1     China           China    China    China    China    China  \n",
       "2   41.1129         44.0935  37.2692  35.7452  22.1667  31.6927  \n",
       "3   85.2401         113.945  106.165  95.9956   113.55  88.0924  \n",
       "4         0               0        1        0        1        0  \n",
       "\n",
       "[5 rows x 34 columns]"
      ]
     },
     "execution_count": 30,
     "metadata": {},
     "output_type": "execute_result"
    }
   ],
   "source": [
    "df_transposed.head()"
   ]
  },
  {
   "cell_type": "code",
   "execution_count": null,
   "metadata": {},
   "outputs": [],
   "source": [
    "    provinceCheck = df_transposed.iloc[0][1]\n",
    "    if np.isnan(provinceCheck) == False:\n",
    "        print('hi')\n",
    "    else: \n",
    "        print('not hi')"
   ]
  },
  {
   "cell_type": "code",
   "execution_count": null,
   "metadata": {},
   "outputs": [],
   "source": [
    "provinceCheck = df_transposed[columns[1]].iloc[0]\n",
    "# provinceCheck.values[0]\n",
    "# provinceCheck = df_transposed.iloc[0][1]\n",
    "type(provinceCheck)"
   ]
  },
  {
   "cell_type": "code",
   "execution_count": null,
   "metadata": {},
   "outputs": [],
   "source": [
    "if type(provinceCheck) == str:\n",
    "    print('hi')\n",
    "else: \n",
    "    print('not hi')"
   ]
  },
  {
   "cell_type": "code",
   "execution_count": null,
   "metadata": {},
   "outputs": [],
   "source": [
    "if provinceCheck.isna == False:\n",
    "    print('hi')\n",
    "else: \n",
    "    print('not hi')"
   ]
  },
  {
   "cell_type": "code",
   "execution_count": 32,
   "metadata": {},
   "outputs": [],
   "source": [
    "columns = []\n",
    "for col in df_transposed.columns: \n",
    "    columns.append(col) "
   ]
  },
  {
   "cell_type": "code",
   "execution_count": null,
   "metadata": {},
   "outputs": [],
   "source": [
    "columns[1]"
   ]
  },
  {
   "cell_type": "code",
   "execution_count": 33,
   "metadata": {},
   "outputs": [],
   "source": [
    "    provinceCheck = df_transposed[columns[1]].iloc[0]\n",
    "\n",
    "    if type(provinceCheck) == str:\n",
    "        df_transposed.columns = df_transposed.iloc[0]\n",
    "        df_transposed = df_transposed.rename(columns={'Province/State': 'Date'})\n",
    "    else: \n",
    "        df_transposed.columns = df_transposed.iloc[1]\n",
    "        df_transposed = df_transposed.rename(columns={'Country/Region': 'Date'})"
   ]
  },
  {
   "cell_type": "code",
   "execution_count": 35,
   "metadata": {},
   "outputs": [
    {
     "data": {
      "text/plain": [
       "['Hubei', 'Guangdong']"
      ]
     },
     "execution_count": 35,
     "metadata": {},
     "output_type": "execute_result"
    }
   ],
   "source": [
    "columns = []\n",
    "for col in df_transposed.columns: \n",
    "    columns.append(col) \n",
    "\n",
    "columns[1:3]"
   ]
  },
  {
   "cell_type": "markdown",
   "metadata": {},
   "source": [
    "# Old Stuff"
   ]
  },
  {
   "cell_type": "code",
   "execution_count": null,
   "metadata": {},
   "outputs": [],
   "source": [
    "def dataVizApp():\n",
    "    country = input(\"Which country would you like? \")\n",
    "    df_time_series_confirmed_search = df_time_series_confirmed.loc[df_time_series_confirmed['Country/Region'] == country]\n",
    "    df_transposed = df_time_series_confirmed_search.T\n",
    "    df_transposed.reset_index(inplace = True) \n",
    "    \n",
    "#     Grab the name of the columns for each new country \n",
    "    columns = []\n",
    "    for col in df_transposed.columns: \n",
    "        columns.append(col)\n",
    "        \n",
    "#     provinceCheck = df_transposed.iloc[[0],[1]]\n",
    "#     provinceCheck = df_transposed.iloc[0][1]\n",
    "\n",
    "#     Grab the value of what will tell whether its region or not\n",
    "    provinceCheck = df_transposed[columns[1]].iloc[0]\n",
    "    \n",
    "#     Old Test to check for province versus region\n",
    "#     if np.isnan(provinceCheck) == False:\n",
    "#         df_transposed.columns = df_transposed.iloc[0]\n",
    "#         df_transposed = df_transposed.rename(columns={'Province/State': 'Date'})\n",
    "#     else: \n",
    "#         df_transposed.columns = df_transposed.iloc[1]\n",
    "#         df_transposed = df_transposed.rename(columns={'Country/Region': 'Date'})\n",
    "\n",
    "    if type(provinceCheck) == str:\n",
    "        df_transposed.columns = df_transposed.iloc[0]\n",
    "        df_transposed = df_transposed.rename(columns={'Province/State': 'Date'})\n",
    "    else: \n",
    "        df_transposed.columns = df_transposed.iloc[1]\n",
    "        df_transposed = df_transposed.rename(columns={'Country/Region': 'Date'})\n",
    "\n",
    "    df_transposed = df_transposed.drop([0,1,2,3])\n",
    "    final = df_transposed.head()\n",
    "    return final\n",
    "    \n",
    "#     labels = ['Hubei']\n",
    "#     fig = df_transposed.plot(x = 'Date', \n",
    "#                    y=['Hubei'], \n",
    "#                    title = f'Line Plot of COVID-19 Confirmed Cases in {labels}')\n",
    "#     plt.legend(labels)\n",
    "#     plt.ylabel('Number of Cases')\n",
    "#     fig.get_figure().savefig(\"hubei_cases.png\")"
   ]
  }
 ],
 "metadata": {
  "kernelspec": {
   "display_name": "Python [conda env:PythonData] *",
   "language": "python",
   "name": "conda-env-PythonData-py"
  },
  "language_info": {
   "codemirror_mode": {
    "name": "ipython",
    "version": 3
   },
   "file_extension": ".py",
   "mimetype": "text/x-python",
   "name": "python",
   "nbconvert_exporter": "python",
   "pygments_lexer": "ipython3",
   "version": "3.6.8"
  }
 },
 "nbformat": 4,
 "nbformat_minor": 2
}
